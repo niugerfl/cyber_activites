{
 "cells": [
  {
   "cell_type": "code",
   "execution_count": null,
   "id": "133b1560",
   "metadata": {},
   "outputs": [],
   "source": [
    "from outils import* # Lancer la cellule pour importer les outils nécessaires au notebook."
   ]
  },
  {
   "cell_type": "markdown",
   "id": "3fe6bf20",
   "metadata": {},
   "source": [
    "# <div style = \"text-align : center;\"><span style=\"border: 2px solid;padding:6px;color:dodgerblue;\">Cyberespace et objets connectés</span></div> #\n",
    "\n",
    "## <span style=\"text-decoration: underline;color:red;\">I. Cyberspace :</span> ##\n",
    "### <span style=\"text-decoration: underline;color:green;\">1. Définition :</span> ###\n",
    "● Le terme de <strong>cyberespace</strong> est utilisé pour décrire l'espace <strong>virtuel</strong> créé par les <strong>réseaux informatiques interconnectés</strong>, principalement l'<strong>internet</strong>.<br>\n",
    "<img src=\"mes_images/internet.jpg\"><br>\n",
    "● C'est un environnement <strong>numérique</strong> où les utilisateurs peuvent <strong>interagir</strong>, <strong>échanger des informations</strong>, <strong>accéder à des ressources</strong>, et <strong>communiquer</strong> par le biais des <strong>ordinateurs</strong> et des <strong>objets connectés</strong>.<br>\n",
    "<img src=\"mes_images/objets_connectes.jpg\"><br>\n",
    "● Le cyberespace est également le lieu où se produisent des activités numériques, telles que le <strong>commerce et les banques en ligne</strong>, le <strong>partage de fichiers</strong>, le <strong>jeu, la vidéo et la musique en ligne</strong>, la consutation de <strong>sites Web</strong>, et bien d'autres activités qui font partie intégrante de notre vie quotidienne moderne.<br>\n",
    "<img src=\"mes_images/cyberespace.jpg\"><br>\n",
    "● Toutefois, le cyberespace peut aussi présenter des <strong>risques</strong>, tels que les <strong>cyberattaques</strong>, le vol de données, ou le piratage informatique...<br>\n",
    "C'est pourquoi il est essentiel de prendre des mesures de sécurité informatique pour protéger nos informations et nos activités en ligne.<br>\n",
    "<img src=\"mes_images/hacker.jpg\">\n",
    "### <span style=\"text-decoration: underline;color:green;\">2. Quelques questions sur le cyberespace...</span> ###\n"
   ]
  },
  {
   "cell_type": "code",
   "execution_count": null,
   "id": "d66b2187",
   "metadata": {},
   "outputs": [],
   "source": [
    "qcm.frontieres()"
   ]
  },
  {
   "cell_type": "code",
   "execution_count": null,
   "id": "3f58c3b3",
   "metadata": {},
   "outputs": [],
   "source": [
    "qcm.attaque()"
   ]
  },
  {
   "cell_type": "code",
   "execution_count": null,
   "id": "ad8892de",
   "metadata": {},
   "outputs": [],
   "source": [
    "qcm.pays()"
   ]
  },
  {
   "cell_type": "code",
   "execution_count": null,
   "id": "641d287a",
   "metadata": {},
   "outputs": [],
   "source": [
    "qcm.RGPD()"
   ]
  },
  {
   "cell_type": "code",
   "execution_count": null,
   "id": "d9da28d8",
   "metadata": {},
   "outputs": [],
   "source": [
    "qcm.cloud()"
   ]
  },
  {
   "cell_type": "code",
   "execution_count": null,
   "id": "3ebcbca5",
   "metadata": {},
   "outputs": [],
   "source": [
    "qcm.identifier()"
   ]
  },
  {
   "cell_type": "code",
   "execution_count": null,
   "id": "bfc6be4c",
   "metadata": {},
   "outputs": [],
   "source": [
    "qcm.acces()"
   ]
  },
  {
   "cell_type": "markdown",
   "id": "ef3bf2ce",
   "metadata": {},
   "source": [
    "## <span style=\"text-decoration: underline;color:red;\">II. Sécuriser un mot de passe :</span> ##\n",
    "On se connecte sur le cyberspace avec un <strong>ordinateur</strong>, ou un <strong>objet connecté</strong> (montre, caméra, télévision, etc.) qui dispose d'un <strong>mot de passe</strong>.<br>\n",
    "Parfois <i>par défaut</i> sur un objet connecté...<br>\n",
    "<br>\n",
    "Le site russe <i>insecam.org</i> a piraté un grand nombre de <strong>caméras de surveillance</strong> qui avaient des mots de passe par défaut trop simples comme $0000$.<br>\n",
    "<img src=\"mes_images/camera.jpg\"><br>\n",
    "Il faut donc toujours penser à <strong>modifier le mot de passe</strong> d'un appareil connecté.<br>\n",
    "<br>\n",
    "De façon générale, les règles pour un mot de passe <strong>sécurisé</strong> sont les suivantes :\n",
    "- au moins 12 caractères\n",
    "\n",
    "- au moins une majucule\n",
    "\n",
    "- au moins une minuscule \n",
    "\n",
    "- au moins un caractère spécial.\n",
    "\n",
    "Dans le cas contraire, le mot de passe est moins sécurisé.<br>\n",
    "<br>\n",
    "Complétez la fonction `contient_majuscule` ci-dessous :<br>\n"
   ]
  },
  {
   "cell_type": "code",
   "execution_count": null,
   "id": "7f057227",
   "metadata": {},
   "outputs": [],
   "source": [
    "def contient_majuscule(str_mdp):\n",
    "    '''renvoie True si le mot de passe contient au moins une majuscule, False sinon'''\n",
    "    majuscules = 'ABCDEFGHIJKLMNOPQRSTUVWXYZ'\n",
    "    # à compléter\n",
    "\n",
    "assert contient_majuscule(\"Ad212!\") == True, \"erreur avec Ad212!\"\n",
    "assert contient_majuscule(\"abcdef\") == False, \"erreur avec abcdef\""
   ]
  },
  {
   "cell_type": "code",
   "execution_count": null,
   "id": "e47f29aa",
   "metadata": {},
   "outputs": [],
   "source": [
    "solution.contient_majuscule()"
   ]
  },
  {
   "cell_type": "markdown",
   "id": "9b903214",
   "metadata": {},
   "source": [
    "● De la même façon, complétez les fonctions `contient_minuscule` et `contient_caractere_special` :<br>\n"
   ]
  },
  {
   "cell_type": "code",
   "execution_count": null,
   "id": "b13cbdba",
   "metadata": {},
   "outputs": [],
   "source": [
    "def contient_minuscule(str_mdp):\n",
    "    '''renvoie True si le mot de passe contient au moins une minuscule, False sinon'''\n",
    "    minuscules = 'abcdefghijklmnopqrstuvwxyz'\n",
    "    # à compléter\n",
    "\n",
    "assert contient_minuscule(\"Ad212!\") == True, \"erreur avec Ad212!\"\n",
    "assert contient_minuscule(\"ABCDEF\") == False, \"erreur avec ABCDEF\""
   ]
  },
  {
   "cell_type": "code",
   "execution_count": null,
   "id": "197d4a8b",
   "metadata": {},
   "outputs": [],
   "source": [
    "solution.contient_minuscule()"
   ]
  },
  {
   "cell_type": "code",
   "execution_count": null,
   "id": "bc84fec2",
   "metadata": {},
   "outputs": [],
   "source": [
    "def contient_caractere_special(str_mdp):\n",
    "    '''renvoie True si le mot de passe contient au moins une minuscule, False sinon'''\n",
    "    caracteres_speciaux = \"!@#$%^&*()-_=+[{]}\\|;:'\\\",<.>/?\"\n",
    "    # à compléter\n",
    "\n",
    "assert contient_caractere_special(\"AbcdH123DF!\") == True, \"erreur avec le mot de passe AbcdH123DF!\"\n",
    "assert contient_caractere_special(\"AbcdH123DF\") == False, \"erreur avec le mot de passe AbcdH123DF\""
   ]
  },
  {
   "cell_type": "code",
   "execution_count": null,
   "id": "13e0a85f",
   "metadata": {},
   "outputs": [],
   "source": [
    "solution.contient_caractere_special()"
   ]
  },
  {
   "cell_type": "markdown",
   "id": "ab6c9c28",
   "metadata": {},
   "source": [
    "● La fonction `score(str_mdp)` ci-dessous renvoie un score de sécurité entre `0` et `4` pour le mot de passe `str_mdp`, composé de **4 caractères au moins**.<br>\n",
    "→ s'il fait partie de la liste `[\"1234\", \"12345\", \"123456\", \"1234567\", \"12345678\", \"123456789\", \"azerty\", \"querty\"]`, on renvoie `0`<br>\n",
    "→ s'il est constitué exclusivement d'une série de $0$, ou exclusivement d'une série de $1$, on renvoie également `0`<br>\n",
    "→ sinon :<br>\n",
    "&nbsp;&nbsp;&nbsp;&nbsp;&nbsp;&nbsp;&nbsp;&nbsp;s'il a moins de 8 caractères, on renvoie `1`<br>\n",
    "&nbsp;&nbsp;&nbsp;&nbsp;&nbsp;&nbsp;&nbsp;&nbsp;s'il au moins 12 caractères, au moins une majuscule, une minuscule et un caractère spécial, on renvoie `4`<br>\n",
    "&nbsp;&nbsp;&nbsp;&nbsp;&nbsp;&nbsp;&nbsp;&nbsp;sinon, on renvoie `2`<br>\n",
    "<br>\n",
    "Complétez cette fonction :<br>\n"
   ]
  },
  {
   "cell_type": "code",
   "execution_count": null,
   "id": "91c741fe",
   "metadata": {},
   "outputs": [],
   "source": [
    "def score(str_mdp):\n",
    "    '''renvoie un score de sécurité entre 0 et 4 pour le mot de passe'''\n",
    "    n = len(str_mdp)\n",
    "    assert n >= 4, \"le mot de passe doit contenir au moins 4 caractères\"\n",
    "    # à compléter\n",
    "\n",
    "assert score(\"123456\") == 0, \"erreur avec le mot de passe 123456\"\n",
    "assert score(\"00000000\") == 0, \"erreur avec le mot de passe 00000000\"\n",
    "assert score(\"11111\") == 0, \"erreur avec le mot de passe 11111\"\n",
    "assert score(\"AbcdH12\") == 1, \"erreur avec le mot de passe AbcdH12 qui a moins de 8 caractères\"\n",
    "assert score(\"AbcdH123DF!\") == 2, \"erreur avec le mot de passe AbcdH123DF! qui n'a que 11 caractères\"\n",
    "assert score(\"AbcdH123DFR!\") == 4, \"erreur avec le mot de passe AbcdH123DFR! qui vérifie toutes les contraintes\""
   ]
  },
  {
   "cell_type": "code",
   "execution_count": null,
   "id": "22ae73f1",
   "metadata": {},
   "outputs": [],
   "source": [
    "solution.score()"
   ]
  },
  {
   "cell_type": "markdown",
   "id": "8fbd95f0",
   "metadata": {},
   "source": [
    "## <span style=\"text-decoration: underline;color:red;\">III. Quelques recommandations :</span> ##\n",
    "### <span style=\"text-decoration: underline;color:green;\">1. Mises à jour régulières :</span> ###\n",
    "La <strong>vulnérabilité</strong> d'un appareil <strong>augmente</strong> si les mises à jour ne sont pas faîtes régulièrement.<br>\n",
    "<img src=\"mes_images/update.png\">\n",
    "### <span style=\"text-decoration: underline;color:green;\">2. Présence d'un pare-feu :</span> ###\n",
    "<img src=\"mes_images/firewall.jpg\"><br>\n",
    "Les ordinateurs bénéficient souvent d'un pare-feu intégré au système d'exploitation.<br>\n",
    "En revanche, c'est beaucoup moins courant sur les objets connectés! <br>\n",
    "Mais qu'est-ce qu'un pare-feu logiciel?<br>\n"
   ]
  },
  {
   "cell_type": "code",
   "execution_count": null,
   "id": "fdc68478",
   "metadata": {},
   "outputs": [],
   "source": [
    "qcm.firewall()"
   ]
  },
  {
   "cell_type": "markdown",
   "id": "7a347fca",
   "metadata": {},
   "source": [
    "### <span style=\"text-decoration: underline;color:green;\">3. Présence d'un antivirus :</span> ###\n",
    "<img src=\"mes_images/antivirus.jpg\"><br>\n"
   ]
  },
  {
   "cell_type": "code",
   "execution_count": null,
   "id": "6a17c9e9",
   "metadata": {},
   "outputs": [],
   "source": [
    "qcm.antivirus()"
   ]
  },
  {
   "cell_type": "code",
   "execution_count": null,
   "id": "946ec3b4",
   "metadata": {},
   "outputs": [],
   "source": [
    "qcm.signatures()"
   ]
  },
  {
   "cell_type": "markdown",
   "id": "4f0c27dc",
   "metadata": {},
   "source": [
    "● Les objets connectés ne disposent généralement pas d'antivirus\n",
    "### <span style=\"text-decoration: underline;color:green;\">4. Modélisation simpliste :</span> ###\n",
    "Considérons la classe `EntiteCyber` ci-dessous, qui modélise à la fois un **ordinateur** ou **objet connecté** du cyberespace.<br>\n",
    "Par défaut, on considère qu'une entité cyber <strong>n'a ni Firewall, ni Antivirus</strong>.<br>\n"
   ]
  },
  {
   "cell_type": "code",
   "execution_count": null,
   "id": "68553f0a",
   "metadata": {},
   "outputs": [],
   "source": [
    "class EntiteCyber:\n",
    "    def __init__(self, est_ordinateur, mdp, mise_a_jour, firewall = False, antivirus = False):\n",
    "        self.est_ordinateur = est_ordinateur # booléen\n",
    "        self.mdp = mdp # string\n",
    "        self.mise_a_jour = mise_a_jour # booléen\n",
    "        self.firewall = firewall # booléen\n",
    "        self.antivirus = antivirus # booléen\n",
    "        \n",
    "    def calculer_niveau_securite(self):\n",
    "        '''renvoie un score correspondant au niveau de sécurité de l'ordinateur ou objet connecté'''\n",
    "        pass\n",
    "\n",
    "# construction de 4 instances : montre_connectee, camera_ip, ordi_1 et ordi_2"
   ]
  },
  {
   "cell_type": "markdown",
   "id": "16397084",
   "metadata": {},
   "source": [
    "Dans la cellule précédente, constuire les 4 instances suivantes :\n",
    "- `montre_connectee`, avec le mot de passe `AbcdH12` qui a des mises à jour régulières.\n",
    "\n",
    "- `camera_ip` avec le mot de passe par défaut `0000` qui a n'a pas de mises à jour régulières.\n",
    "\n",
    "- `ordi_1` avec le mot de passe `AbcdH123DF!` qui a des mises à jour régulières, un firewall et pas d'antivirus\n",
    "\n",
    "- `ordi_2` avec le mot de passe par défaut `AbcdH123DFR!` qui a des mises à jour régulières, un firewall et un antivirus\n",
    "\n"
   ]
  },
  {
   "cell_type": "code",
   "execution_count": null,
   "id": "25d5a517",
   "metadata": {},
   "outputs": [],
   "source": [
    "solution.instances()"
   ]
  },
  {
   "cell_type": "markdown",
   "id": "9e6a6307",
   "metadata": {},
   "source": [
    "● Complétez la méthode `calculer_niveau_securite` selon le principe suivant :<br>\n",
    "<br>\n",
    "le score de sécurité est initialisé à celui de son mot de passe.<br>\n",
    "&nbsp;&nbsp;&nbsp;&nbsp;&nbsp;&nbsp;&nbsp;&nbsp;→ si l'entité cyber dispose de mise à jour régulière, on lui ajoute `2`<br>\n",
    "&nbsp;&nbsp;&nbsp;&nbsp;&nbsp;&nbsp;&nbsp;&nbsp;→ si l'entité cyber dispose de d'un firewall, on lui ajoute `2`<br>\n",
    "&nbsp;&nbsp;&nbsp;&nbsp;&nbsp;&nbsp;&nbsp;&nbsp;→ si l'entité cyber dispose d'un antivirus, on lui ajoute `2`<br>\n",
    "<br>\n",
    "**Validez à nouveau la cellule contenant la classe `EntiteCyber`**, puis testez les assertions suivantes :<br>\n"
   ]
  },
  {
   "cell_type": "code",
   "execution_count": null,
   "id": "ea46ad7b",
   "metadata": {},
   "outputs": [],
   "source": [
    "assert montre_connectee.calculer_niveau_securite() == 3, \"erreur montre connectee qui a un score de 1 + 2 + 0 + 0\"\n",
    "assert camera_ip.calculer_niveau_securite() == 0, \"erreur camera_ip qui a un score de 0 + 0 + 0 + 0\"\n",
    "assert ordi_1.calculer_niveau_securite() == 6, \"erreur ordi_1 qui a un score de 2 + 2 + 2 + 0\"\n",
    "assert ordi_2.calculer_niveau_securite() == 10, \"erreur ordi_2 qui a un score de 4 + 2 + 2 + 2\""
   ]
  },
  {
   "cell_type": "code",
   "execution_count": null,
   "id": "a737b25f",
   "metadata": {},
   "outputs": [],
   "source": [
    "solution.calculer_niveau_securite()"
   ]
  },
  {
   "cell_type": "markdown",
   "id": "32340743",
   "metadata": {},
   "source": [
    "## <span style=\"text-decoration: underline;color:red;\">IV. Les Hackers :</span> ##\n",
    "### <span style=\"text-decoration: underline;color:green;\">1. Catégories :</span> ###\n",
    "On peut classer les hackers en différentes catégories.<br>\n",
    "\n",
    "#### <span style=\"text-decoration: underline;color:blue;\">a. Les White Hat (chapeau blanc) :</span> ####\n",
    "Ils sont aussi connus sous le nom de Hackers <strong>éthiques</strong>.<br>\n",
    "<img src=\"mes_images/white_hat.jpg\"><br>\n",
    "Ce sont des <strong>experts en sécurité informatique</strong> engagés pour <strong>tester</strong> la sécurité des systèmes, détecter les vulnérabilités et aider à renforcer la sécurité des entreprises. <br>\n",
    "Les <i>White Hat</i> utilisent leurs compétences de manière <strong>légale</strong> et <strong>éthique</strong> pour <strong>améliorer la sécurité des systèmes</strong> et <strong>protéger contre les cyberattaques</strong>.<br>\n",
    "\n",
    "#### <span style=\"text-decoration: underline;color:blue;\">b. Les Black Hat (chapeau noir) :</span> ####\n",
    "Ce sont des hackers <strong>malveillants et illégaux</strong>, motivés par le <strong>profit</strong>, le <strong>pouvoir</strong> ou le <strong>désir de causer des dommages</strong> et des nuisances.<br>\n",
    "<img src=\"mes_images/black_hat.jpg\"><br>\n",
    "Ils utilisent leurs compétences en piratage pour des activités <strong>nuisibles</strong> et <strong>illégales</strong>, telles que le <strong>vol d'informations</strong>, les attaques informatiques et le <strong>sabotage des systèmes</strong>.<br>\n",
    "\n",
    "#### <span style=\"text-decoration: underline;color:blue;\">c. Les Grey Hat (chapeau gris) :</span> ####\n",
    "Ces hackers dont les actions peuvent être <strong>ambiguës</strong>, ni totalement éthiques ni totalement malveillantes.<br>\n",
    "<img src=\"mes_images/grey_hat.jpg\"><br>\n",
    "Ils peuvent choisir de révéler les vulnérabilités qu'ils trouvent <strong>publiquement</strong> ou encore les <strong>signaler aux propriétaires</strong> des systèmes concernés, <strong>sans autorisation préalable</strong>.<br>\n",
    "\n",
    "#### <span style=\"text-decoration: underline;color:blue;\">d. Les \"Hacktivistes\" :</span> ####\n",
    "Ce sont des hackers qui utilisent leurs compétences pour défendre une cause <strong>politique</strong>, <strong>sociale</strong> ou <strong>idéologique</strong>. <br>\n",
    "<img src=\"mes_images/anonymous.jpg\"><br>\n",
    "Ils peuvent cibler des sites web, des réseaux sociaux ou des institutions qu’ils considèrent comme ennemis ou injustes.<br>\n",
    "<i>Anonymous</i> en fait partie.<br>\n",
    "\n",
    "#### <span style=\"text-decoration: underline;color:blue;\">e. Les \"Script Kiddies\":</span> ####\n",
    "Ce sont des hackers <strong>novices</strong> ou en formation, curieux et désireux d'apprendre mais qui manquent d'expérience.<br>\n",
    "<img src=\"mes_images/novice.png\"><br>\n",
    "Ils utilisent des outils développés par des hackers plus compétents, sans forcément les comprendre.<br>\n",
    "<br>\n",
    "Les motivations des hackers peuvent être complexes et variées. <br>\n",
    "Certains hackers peuvent également évoluer entre différentes catégories en fonction de leurs expériences et de leurs convictions.\n",
    "### <span style=\"text-decoration: underline;color:green;\">2. La classe <span style=\"font-family:Courier New;font-size: 100%;\">Hacker</span>:</span> ###\n",
    "Considérons la classe `Hacker` ci-dessous.<br>\n",
    "Chaque instance a :\n",
    "- un attribut `pseudo` de type string\n",
    "\n",
    "- un attribut `niveau` de type intéger entre 0 (mauvais) et 10 (excellent)\n",
    "\n",
    "- un attribut `categorie` de type string parmi les possibilités : `\"malveillant\"`, `\"ethique\"`, `\"neutre\"`, `\"hacktiviste\"`, `\"novice\"`\n",
    "\n"
   ]
  },
  {
   "cell_type": "code",
   "execution_count": null,
   "id": "66823373",
   "metadata": {},
   "outputs": [],
   "source": [
    "from random import randint\n",
    "class Hacker:\n",
    "    def __init__(self, pseudo, niveau, categorie):\n",
    "        self.pseudo = pseudo\n",
    "        self.niveau = niveau\n",
    "        self.categorie = categorie\n",
    "        \n",
    "    def reussit_attaque(self, obj_entite):\n",
    "        '''renvoie True ou False selon le faut que le hacker réussit ou non son attaque sur obj_entite'''\n",
    "        pass\n",
    "\n",
    "# Construire les 3 instances : dark = ..., guardian = ..., rookie = ..."
   ]
  },
  {
   "cell_type": "markdown",
   "id": "e601433a",
   "metadata": {},
   "source": [
    "● Dans la cellule qui précède, construire :\n",
    "- une instance `dark` qui est un hacker de pseudo `DarkShadow`, de niveau `6` et `malveillant`\n",
    "\n",
    "- une instance `guardian` qui est un hacker de pseudo `GuardianAngel`, de niveau `8` et `ethique`\n",
    "\n",
    "- une instance `rookie` qui est un hacker de pseudo `RookieHacker`, de niveau `2` et `novice`\n",
    "\n"
   ]
  },
  {
   "cell_type": "code",
   "execution_count": null,
   "id": "cd3e4b10",
   "metadata": {},
   "outputs": [],
   "source": [
    "solution.instances_hacker()"
   ]
  },
  {
   "cell_type": "markdown",
   "id": "cd299019",
   "metadata": {},
   "source": [
    "● On considère qu'un novice ne peut pas avoir un niveau supérieur ou égal à 4.<br>\n",
    "Ajouter cette assertion dans le constructeur `__init__`<br>\n"
   ]
  },
  {
   "cell_type": "code",
   "execution_count": null,
   "id": "f81bb6b1",
   "metadata": {},
   "outputs": [],
   "source": [
    "# L' assertion doit se déclencher :\n",
    "Hacker(\"newbie\", 5, \"novice\")"
   ]
  },
  {
   "cell_type": "code",
   "execution_count": null,
   "id": "843bb8a0",
   "metadata": {},
   "outputs": [],
   "source": [
    "solution.assertion()"
   ]
  },
  {
   "cell_type": "markdown",
   "id": "5c4bd7bb",
   "metadata": {},
   "source": [
    "● On considère qu'un Hacker réussit son attaque sur une entité Cyber si son niveau est <strong>strictement supérieur</strong> au niveau de sécurité de l'entité cyber.<br>\n",
    "En cas d'égalité, il y a une chance sur deux qu'il la réussise.<br>\n",
    "On pourra à cet effet utiliser la fonction `randint(x, y)` du module `random`qui envoie au hasard un entier compris entre `x` inclus et `y` inclus.<br>\n",
    "<br>\n",
    "Complétez la méthode `reussit_attaque`.<br>\n",
    "<br>\n",
    "**Validez à nouveau la cellule contenant la classe `Hacker`**, puis testez les assertions suivantes :<br>\n"
   ]
  },
  {
   "cell_type": "code",
   "execution_count": null,
   "id": "d16c1295",
   "metadata": {},
   "outputs": [],
   "source": [
    "assert dark.reussit_attaque(camera_ip) == True, \"dark doit réussir son attaque sur camera_ip car 6 > 0\"\n",
    "assert rookie.reussit_attaque(ordi_1) == False, \"rookie ne réussit pas son attaque sur ordi_1 car 2 < 7\"\n",
    "assert guardian.reussit_attaque(montre_connectee) == True, \"guardian doit réussir son attaque sur montre_connectee car 8 > 3\""
   ]
  },
  {
   "cell_type": "code",
   "execution_count": null,
   "id": "2a45f1dd",
   "metadata": {},
   "outputs": [],
   "source": [
    "# Parfois, dark réussit son attaque sur ordi_1, parfois non:\n",
    "nb_attaques = 10\n",
    "print(\"dark attaque 10 fois ordi_1\")\n",
    "for k in range(nb_attaques):\n",
    "    print(\"essai n°\", k+1, \"attaque réussie?\", dark.reussit_attaque(ordi_1))"
   ]
  },
  {
   "cell_type": "code",
   "execution_count": null,
   "id": "26680499",
   "metadata": {},
   "outputs": [],
   "source": [
    "solution.class_Hacker()"
   ]
  },
  {
   "cell_type": "markdown",
   "id": "06e542f9",
   "metadata": {},
   "source": [
    "## <span style=\"text-decoration: underline;color:red;\">V. Compléments :</span> ##\n",
    "Nous avons étudié quelques recommandations de sécurité <strong>au niveau de la machine</strong>.<br>\n",
    "Mais il ne faut pas perdre de vue que les vulnérabilités proviennent aussi souvent des <strong>personnes qui les utilisent</strong>!\n",
    "### <span style=\"text-decoration: underline;color:green;\">1. Attention aux informations personnelles :</span> ###\n"
   ]
  },
  {
   "cell_type": "code",
   "execution_count": null,
   "id": "e9ebf024",
   "metadata": {},
   "outputs": [],
   "source": [
    "qcm.phishing()"
   ]
  },
  {
   "cell_type": "markdown",
   "id": "814ddeda",
   "metadata": {},
   "source": [
    "● Plus généralement, faire preuve de prudence en ligne!<br>\n",
    "Éviter de cliquer sur des <strong>liens suspects</strong> ou de <strong>télécharger des fichiers</strong> provenant de <strong>sources non fiables</strong>. <br>\n",
    "<br><div style = \"text-align : center;\"><span style=\"border: 2px solid;padding:6px;\">Ne jamais divulguer d'informations personnelles ou confidentielles par e-mail</span></div>\n",
    "\n",
    "### <span style=\"text-decoration: underline;color:green;\">2. Sauvegarder les données : </span> ###\n",
    "Il faut régulièrement effectuer des <strong>sauvegardes des données importantes</strong>, de préférence sur des <strong>supports externes</strong>, pour se protéger contre la perte de données en cas d'incident.<br>\n",
    "<img src=\"mes_images/usb.jpg\">\n",
    "### <span style=\"text-decoration: underline;color:green;\">3. Utiliser une connexion sécurisée :</span> ###\n",
    "<img src=\"mes_images/https.jpg\"><br>\n",
    "Nous étudierons le protocole <i>HTTPS</i> plus tard dans l'année.<br>\n",
    "Il permet de <strong>chiffrer les données échangées</strong> entre le <strong>navigateur de l'utilisateur</strong> et le <strong>serveur du site Web</strong>.<br>\n",
    "Il est recommandé de naviguer sur les sites web utilisant ce protocole.<br>\n"
   ]
  },
  {
   "cell_type": "code",
   "execution_count": null,
   "id": "4459f27f",
   "metadata": {},
   "outputs": [],
   "source": [
    "qcm.https()"
   ]
  },
  {
   "cell_type": "code",
   "execution_count": null,
   "id": "660d7755",
   "metadata": {},
   "outputs": [],
   "source": [
    "qcm.chiffrement()"
   ]
  },
  {
   "cell_type": "markdown",
   "id": "42c92cc8",
   "metadata": {},
   "source": [
    "### <span style=\"text-decoration: underline;color:green;\">3. Sécuriser les réseaux Wi-Fi : </span> ###\n",
    "Il est vital de protéger son réseau Wi-Fi avec un mot de passe <strong>fort</strong>.<br>\n",
    "<br>\n",
    "L'<i>ANSSI</i> (Agence Nationale de la Ssécurité des Systèmes d'Information) recommande :\n",
    "- <strong>au moins 20 caractères</strong> \n",
    "\n",
    "- avec <strong>majuscules, minuscules, chiffres</strong> et <strong>caractères spéciaux</strong>.\n",
    "\n",
    "\n",
    "https://www.ssi.gouv.fr/administration/precautions-elementaires/calculer-la-force-dun-mot-de-passe/#:~:text=La%20%C2%AB%20force%20%C2%BB%20d%27un%20tel%20mot%20de%20passe%20est,pr%C3%A9sum%C3%A9%20est%20de%20longue%20dur%C3%A9e.<br>\n",
    "<img src=\"mes_images/wifi.jpg\">\n",
    "### <span style=\"text-decoration: underline;color:green;\">4. Éduquer et sensibiliser : </span> ###\n",
    "Ne pas hésiter à se documenter sur les meilleures pratiques en matière de cybersécurité.<br>\n",
    "Et <strong>partager ses connaissances</strong> avec son entourage pour qu'ils adoptent également ces habitudes.<br>\n",
    "<br>\n",
    "<span style=\"text-decoration: underline;font-weight: bold;font-style: italic;color:blue;\">Sources :</span><br>\n",
    "<span style=\"font-style: italic;color:blue;\">https://secnumacademie.gouv.fr/</span><br>\n"
   ]
  }
 ],
 "metadata": {},
 "nbformat": 4,
 "nbformat_minor": 5
}
